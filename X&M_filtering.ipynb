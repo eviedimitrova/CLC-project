{
 "cells": [
  {
   "cell_type": "code",
   "execution_count": 1,
   "id": "b705645a-3bea-4210-961c-3b1f00a887ea",
   "metadata": {},
   "outputs": [
    {
     "name": "stdout",
     "output_type": "stream",
     "text": [
      "Filtered sequences have been written to /Users/yvettedimitrova/Downloads/all_noPl_addedseq_filtered.fasta\n"
     ]
    }
   ],
   "source": [
    "from Bio import SeqIO\n",
    "\n",
    "# Input and output filenames\n",
    "input_file = '/Users/yvettedimitrova/Downloads/UNKNOWNS.fasta'\n",
    "output_file = '/Users/yvettedimitrova/Downloads/unknowns_noX_Mstart_lengthfilter.fasta'\n",
    "\n",
    "# Open input and output files\n",
    "with open(input_file, \"r\") as in_handle, open(output_file, \"w\") as out_handle:\n",
    "#iterating\n",
    "    for record in SeqIO.parse(in_handle, \"fasta\"):\n",
    "        sequence_id = record.id\n",
    "        sequence = str(record.seq)\n",
    "        m_index = sequence.find('M')\n",
    "        if m_index == 0 and 'X' not in sequence:\n",
    "            if len(sequence) >= 400 and len(sequence) <= 1200:\n",
    "            # Write the record to the output file\n",
    "                SeqIO.write(record, out_handle, \"fasta\")\n",
    "\n",
    "print(\"Filtered sequences have been written to\", output_file)\n",
    "\n",
    "\n",
    "\n",
    "\n",
    "\n"
   ]
  },
  {
   "cell_type": "code",
   "execution_count": null,
   "id": "775a7723-78a7-4741-8dbf-33578b8f3891",
   "metadata": {},
   "outputs": [],
   "source": []
  }
 ],
 "metadata": {
  "kernelspec": {
   "display_name": "Python 3 (ipykernel)",
   "language": "python",
   "name": "python3"
  },
  "language_info": {
   "codemirror_mode": {
    "name": "ipython",
    "version": 3
   },
   "file_extension": ".py",
   "mimetype": "text/x-python",
   "name": "python",
   "nbconvert_exporter": "python",
   "pygments_lexer": "ipython3",
   "version": "3.11.7"
  }
 },
 "nbformat": 4,
 "nbformat_minor": 5
}
