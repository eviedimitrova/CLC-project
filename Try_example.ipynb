{
 "cells": [
  {
   "cell_type": "code",
   "execution_count": 1,
   "id": "e1cdbb60-85e3-44b1-b336-80384dc026c6",
   "metadata": {},
   "outputs": [
    {
     "name": "stdout",
     "output_type": "stream",
     "text": [
      "Values after 'Ex. Wavelength(nm) 488' have been written to /Users/yvettedimitrova/Downloads/output_try_example.txt\n"
     ]
    }
   ],
   "source": [
    "def extract_values(input_file, output_file):\n",
    "    # Read the input file\n",
    "    with open(input_file, 'r') as f:\n",
    "        lines = f.readlines()\n",
    "\n",
    "    # Find the line containing \"Ex. Wavelength(nm)\t488\"\n",
    "    start_index = None\n",
    "    for i, line in enumerate(lines):\n",
    "        if \"Ex. Wavelength(nm)\\t488\" in line:\n",
    "            start_index = i\n",
    "            break\n",
    "\n",
    "    # If the line is found, extract values after it\n",
    "    if start_index is not None:\n",
    "        values = lines[start_index + 1:]\n",
    "\n",
    "        # Write the extracted values to the output file\n",
    "        with open(output_file, 'w') as f:\n",
    "            f.writelines(values)\n",
    "        print(\"Values after 'Ex. Wavelength(nm) 488' have been written to\", output_file)\n",
    "    else:\n",
    "        print(\"Line 'Ex. Wavelength(nm) 488' not found in the input file.\")\n",
    "\n",
    "\n",
    "# Example usage\n",
    "input_file = \"/Users/yvettedimitrova/Downloads/try_example.txt\"\n",
    "output_file = \"/Users/yvettedimitrova/Downloads/output_try_example.txt\"\n",
    "extract_values(input_file, output_file)\n"
   ]
  },
  {
   "cell_type": "code",
   "execution_count": null,
   "id": "c67ae152-bbfe-4768-8fad-c7de777f7d91",
   "metadata": {},
   "outputs": [],
   "source": []
  }
 ],
 "metadata": {
  "kernelspec": {
   "display_name": "Python 3 (ipykernel)",
   "language": "python",
   "name": "python3"
  },
  "language_info": {
   "codemirror_mode": {
    "name": "ipython",
    "version": 3
   },
   "file_extension": ".py",
   "mimetype": "text/x-python",
   "name": "python",
   "nbconvert_exporter": "python",
   "pygments_lexer": "ipython3",
   "version": "3.11.7"
  }
 },
 "nbformat": 4,
 "nbformat_minor": 5
}
